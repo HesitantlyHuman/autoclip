{
 "cells": [
  {
   "cell_type": "code",
   "execution_count": 1,
   "metadata": {},
   "outputs": [],
   "source": [
    "import pandas as pd"
   ]
  },
  {
   "cell_type": "code",
   "execution_count": 2,
   "metadata": {},
   "outputs": [],
   "source": [
    "dataframe = pd.read_csv(\"results/mnist.csv\")"
   ]
  },
  {
   "cell_type": "code",
   "execution_count": 3,
   "metadata": {},
   "outputs": [
    {
     "data": {
      "text/html": [
       "<div>\n",
       "<style scoped>\n",
       "    .dataframe tbody tr th:only-of-type {\n",
       "        vertical-align: middle;\n",
       "    }\n",
       "\n",
       "    .dataframe tbody tr th {\n",
       "        vertical-align: top;\n",
       "    }\n",
       "\n",
       "    .dataframe thead th {\n",
       "        text-align: right;\n",
       "    }\n",
       "</style>\n",
       "<table border=\"1\" class=\"dataframe\">\n",
       "  <thead>\n",
       "    <tr style=\"text-align: right;\">\n",
       "      <th></th>\n",
       "      <th>epochs</th>\n",
       "      <th>learning_rate</th>\n",
       "      <th>is_regularized</th>\n",
       "      <th>quantile</th>\n",
       "      <th>best_loss</th>\n",
       "      <th>use_clipping</th>\n",
       "    </tr>\n",
       "  </thead>\n",
       "  <tbody>\n",
       "    <tr>\n",
       "      <th>0</th>\n",
       "      <td>3</td>\n",
       "      <td>0.00001</td>\n",
       "      <td>True</td>\n",
       "      <td>0.50</td>\n",
       "      <td>0.312493</td>\n",
       "      <td>True</td>\n",
       "    </tr>\n",
       "    <tr>\n",
       "      <th>1</th>\n",
       "      <td>3</td>\n",
       "      <td>0.00001</td>\n",
       "      <td>True</td>\n",
       "      <td>0.70</td>\n",
       "      <td>0.317410</td>\n",
       "      <td>True</td>\n",
       "    </tr>\n",
       "    <tr>\n",
       "      <th>2</th>\n",
       "      <td>3</td>\n",
       "      <td>0.00001</td>\n",
       "      <td>True</td>\n",
       "      <td>0.80</td>\n",
       "      <td>0.298116</td>\n",
       "      <td>True</td>\n",
       "    </tr>\n",
       "    <tr>\n",
       "      <th>3</th>\n",
       "      <td>3</td>\n",
       "      <td>0.00001</td>\n",
       "      <td>True</td>\n",
       "      <td>0.90</td>\n",
       "      <td>0.317231</td>\n",
       "      <td>True</td>\n",
       "    </tr>\n",
       "    <tr>\n",
       "      <th>4</th>\n",
       "      <td>3</td>\n",
       "      <td>0.00001</td>\n",
       "      <td>True</td>\n",
       "      <td>0.95</td>\n",
       "      <td>0.296054</td>\n",
       "      <td>True</td>\n",
       "    </tr>\n",
       "  </tbody>\n",
       "</table>\n",
       "</div>"
      ],
      "text/plain": [
       "   epochs  learning_rate  is_regularized  quantile  best_loss  use_clipping\n",
       "0       3        0.00001            True      0.50   0.312493          True\n",
       "1       3        0.00001            True      0.70   0.317410          True\n",
       "2       3        0.00001            True      0.80   0.298116          True\n",
       "3       3        0.00001            True      0.90   0.317231          True\n",
       "4       3        0.00001            True      0.95   0.296054          True"
      ]
     },
     "execution_count": 3,
     "metadata": {},
     "output_type": "execute_result"
    }
   ],
   "source": [
    "dataframe.head()"
   ]
  },
  {
   "cell_type": "code",
   "execution_count": 4,
   "metadata": {},
   "outputs": [
    {
     "name": "stdout",
     "output_type": "stream",
     "text": [
      "1291    0.024823\n",
      "1292    0.024841\n",
      "1293    0.026196\n",
      "1294    0.022768\n",
      "1295    0.024619\n",
      "1296    0.023918\n",
      "1297    0.024209\n",
      "1298    0.024861\n",
      "1299    0.023330\n",
      "1300    0.024350\n",
      "1301    0.026540\n",
      "1302    0.024029\n",
      "1303    0.025247\n",
      "1304    0.024806\n",
      "1305    0.025178\n",
      "1306    0.025282\n",
      "1307    0.024609\n",
      "1308    0.026477\n",
      "1309    0.023608\n",
      "1310    0.025547\n",
      "1311    0.023917\n",
      "1312    0.024574\n",
      "1313    0.025351\n",
      "1314    0.024881\n",
      "1315    0.025024\n",
      "1316    0.023343\n",
      "1317    0.025889\n",
      "1318    0.025059\n",
      "1319    0.024576\n",
      "1320    0.024482\n",
      "Name: best_loss, dtype: float64\n"
     ]
    },
    {
     "data": {
      "text/plain": [
       "8.020565815235175e-07"
      ]
     },
     "execution_count": 4,
     "metadata": {},
     "output_type": "execute_result"
    }
   ],
   "source": [
    "# Calculate the variance of the trials where epochs=5, learning_rate=1e-3 and use_clipping=False\n",
    "print(dataframe[(dataframe[\"epochs\"] == 5) & (dataframe[\"learning_rate\"] == 1e-3) & (dataframe[\"use_clipping\"] == False)][\"best_loss\"])\n",
    "variance = dataframe[(dataframe[\"epochs\"] == 5) & (dataframe[\"learning_rate\"] == 1e-3) & (dataframe[\"use_clipping\"] == False)][\"best_loss\"].var()\n",
    "variance"
   ]
  },
  {
   "cell_type": "code",
   "execution_count": 5,
   "metadata": {},
   "outputs": [],
   "source": [
    "# Average results where epochs, learning_rate, is_regularized, and quantile are the same\n",
    "dataframe = dataframe.groupby([\"epochs\", \"learning_rate\", \"is_regularized\", \"quantile\", \"use_clipping\"]).mean().reset_index()"
   ]
  },
  {
   "cell_type": "code",
   "execution_count": 6,
   "metadata": {},
   "outputs": [
    {
     "data": {
      "text/html": [
       "<div>\n",
       "<style scoped>\n",
       "    .dataframe tbody tr th:only-of-type {\n",
       "        vertical-align: middle;\n",
       "    }\n",
       "\n",
       "    .dataframe tbody tr th {\n",
       "        vertical-align: top;\n",
       "    }\n",
       "\n",
       "    .dataframe thead th {\n",
       "        text-align: right;\n",
       "    }\n",
       "</style>\n",
       "<table border=\"1\" class=\"dataframe\">\n",
       "  <thead>\n",
       "    <tr style=\"text-align: right;\">\n",
       "      <th></th>\n",
       "      <th>epochs</th>\n",
       "      <th>learning_rate</th>\n",
       "      <th>is_regularized</th>\n",
       "      <th>quantile</th>\n",
       "      <th>use_clipping</th>\n",
       "      <th>best_loss</th>\n",
       "    </tr>\n",
       "  </thead>\n",
       "  <tbody>\n",
       "    <tr>\n",
       "      <th>78</th>\n",
       "      <td>5</td>\n",
       "      <td>0.001</td>\n",
       "      <td>False</td>\n",
       "      <td>0.9</td>\n",
       "      <td>True</td>\n",
       "      <td>0.024298</td>\n",
       "    </tr>\n",
       "  </tbody>\n",
       "</table>\n",
       "</div>"
      ],
      "text/plain": [
       "    epochs  learning_rate  is_regularized  quantile  use_clipping  best_loss\n",
       "78       5          0.001           False       0.9          True   0.024298"
      ]
     },
     "execution_count": 6,
     "metadata": {},
     "output_type": "execute_result"
    }
   ],
   "source": [
    "dataframe[dataframe[\"best_loss\"] == min(dataframe[\"best_loss\"])]"
   ]
  },
  {
   "cell_type": "code",
   "execution_count": 7,
   "metadata": {},
   "outputs": [
    {
     "data": {
      "text/html": [
       "<div>\n",
       "<style scoped>\n",
       "    .dataframe tbody tr th:only-of-type {\n",
       "        vertical-align: middle;\n",
       "    }\n",
       "\n",
       "    .dataframe tbody tr th {\n",
       "        vertical-align: top;\n",
       "    }\n",
       "\n",
       "    .dataframe thead th {\n",
       "        text-align: right;\n",
       "    }\n",
       "</style>\n",
       "<table border=\"1\" class=\"dataframe\">\n",
       "  <thead>\n",
       "    <tr style=\"text-align: right;\">\n",
       "      <th></th>\n",
       "      <th>epochs</th>\n",
       "      <th>learning_rate</th>\n",
       "      <th>is_regularized</th>\n",
       "      <th>quantile</th>\n",
       "      <th>use_clipping</th>\n",
       "      <th>best_loss</th>\n",
       "    </tr>\n",
       "  </thead>\n",
       "  <tbody>\n",
       "    <tr>\n",
       "      <th>78</th>\n",
       "      <td>5</td>\n",
       "      <td>0.001</td>\n",
       "      <td>False</td>\n",
       "      <td>0.90</td>\n",
       "      <td>True</td>\n",
       "      <td>0.024298</td>\n",
       "    </tr>\n",
       "    <tr>\n",
       "      <th>79</th>\n",
       "      <td>5</td>\n",
       "      <td>0.001</td>\n",
       "      <td>False</td>\n",
       "      <td>0.95</td>\n",
       "      <td>True</td>\n",
       "      <td>0.025185</td>\n",
       "    </tr>\n",
       "    <tr>\n",
       "      <th>80</th>\n",
       "      <td>5</td>\n",
       "      <td>0.001</td>\n",
       "      <td>False</td>\n",
       "      <td>0.99</td>\n",
       "      <td>True</td>\n",
       "      <td>0.024656</td>\n",
       "    </tr>\n",
       "    <tr>\n",
       "      <th>81</th>\n",
       "      <td>5</td>\n",
       "      <td>0.001</td>\n",
       "      <td>False</td>\n",
       "      <td>1.00</td>\n",
       "      <td>False</td>\n",
       "      <td>0.024744</td>\n",
       "    </tr>\n",
       "    <tr>\n",
       "      <th>88</th>\n",
       "      <td>5</td>\n",
       "      <td>0.001</td>\n",
       "      <td>True</td>\n",
       "      <td>0.99</td>\n",
       "      <td>True</td>\n",
       "      <td>0.024739</td>\n",
       "    </tr>\n",
       "    <tr>\n",
       "      <th>89</th>\n",
       "      <td>5</td>\n",
       "      <td>0.001</td>\n",
       "      <td>True</td>\n",
       "      <td>1.00</td>\n",
       "      <td>True</td>\n",
       "      <td>0.025230</td>\n",
       "    </tr>\n",
       "    <tr>\n",
       "      <th>92</th>\n",
       "      <td>5</td>\n",
       "      <td>0.010</td>\n",
       "      <td>False</td>\n",
       "      <td>0.80</td>\n",
       "      <td>True</td>\n",
       "      <td>0.024843</td>\n",
       "    </tr>\n",
       "    <tr>\n",
       "      <th>96</th>\n",
       "      <td>5</td>\n",
       "      <td>0.010</td>\n",
       "      <td>False</td>\n",
       "      <td>1.00</td>\n",
       "      <td>False</td>\n",
       "      <td>0.025205</td>\n",
       "    </tr>\n",
       "    <tr>\n",
       "      <th>97</th>\n",
       "      <td>5</td>\n",
       "      <td>0.010</td>\n",
       "      <td>False</td>\n",
       "      <td>1.00</td>\n",
       "      <td>True</td>\n",
       "      <td>0.024805</td>\n",
       "    </tr>\n",
       "    <tr>\n",
       "      <th>104</th>\n",
       "      <td>5</td>\n",
       "      <td>0.010</td>\n",
       "      <td>True</td>\n",
       "      <td>1.00</td>\n",
       "      <td>True</td>\n",
       "      <td>0.024729</td>\n",
       "    </tr>\n",
       "  </tbody>\n",
       "</table>\n",
       "</div>"
      ],
      "text/plain": [
       "     epochs  learning_rate  is_regularized  quantile  use_clipping  best_loss\n",
       "78        5          0.001           False      0.90          True   0.024298\n",
       "79        5          0.001           False      0.95          True   0.025185\n",
       "80        5          0.001           False      0.99          True   0.024656\n",
       "81        5          0.001           False      1.00         False   0.024744\n",
       "88        5          0.001            True      0.99          True   0.024739\n",
       "89        5          0.001            True      1.00          True   0.025230\n",
       "92        5          0.010           False      0.80          True   0.024843\n",
       "96        5          0.010           False      1.00         False   0.025205\n",
       "97        5          0.010           False      1.00          True   0.024805\n",
       "104       5          0.010            True      1.00          True   0.024729"
      ]
     },
     "execution_count": 7,
     "metadata": {},
     "output_type": "execute_result"
    }
   ],
   "source": [
    "dataframe[dataframe[\"best_loss\"] < min(dataframe[\"best_loss\"]) + 0.001]"
   ]
  },
  {
   "cell_type": "code",
   "execution_count": 8,
   "metadata": {},
   "outputs": [],
   "source": [
    "clipping_dataframe = dataframe[dataframe[\"use_clipping\"] == True]\n",
    "non_clipping_dataframe = dataframe[dataframe[\"use_clipping\"] != True]"
   ]
  },
  {
   "cell_type": "code",
   "execution_count": 10,
   "metadata": {},
   "outputs": [
    {
     "data": {
      "text/plain": [
       "<matplotlib.legend.Legend at 0x7f55c7be11e0>"
      ]
     },
     "execution_count": 10,
     "metadata": {},
     "output_type": "execute_result"
    },
    {
     "data": {
      "image/png": "[encoded data removed]",
      "text/plain": [
       "<Figure size 1200x500 with 1 Axes>"
      ]
     },
     "metadata": {},
     "output_type": "display_data"
    }
   ],
   "source": [
    "# Now, lets look at lr=1e-3 and epochs=3\n",
    "# We want to plot the quantile vs best loss for regularized and non-regularized models\n",
    "# Make regularized green and non-regularized red\n",
    "\n",
    "import matplotlib.pyplot as plt\n",
    "\n",
    "epochs = 5\n",
    "lr = 1e-5\n",
    "\n",
    "sub_frame = clipping_dataframe[(clipping_dataframe[\"epochs\"] == epochs) & (clipping_dataframe[\"learning_rate\"] == lr)]\n",
    "\n",
    "base_performance = non_clipping_dataframe[(non_clipping_dataframe[\"epochs\"] == epochs) & (non_clipping_dataframe[\"learning_rate\"] == lr)][\"best_loss\"].item()\n",
    "\n",
    "regularized = sub_frame[sub_frame[\"is_regularized\"] == True]\n",
    "non_regularized = sub_frame[sub_frame[\"is_regularized\"] == False]\n",
    "\n",
    "# Figsize 15\n",
    "plt.figure(figsize=(12, 5))\n",
    "plt.plot(regularized[\"quantile\"], regularized[\"best_loss\"], 'g', label=\"Regularized\")\n",
    "plt.plot(non_regularized[\"quantile\"], non_regularized[\"best_loss\"], 'r', label=\"Non-Regularized\")\n",
    "\n",
    "# Add a dotted horizontal line for the base performance\n",
    "plt.axhline(y=base_performance, color='black', linestyle='--')\n",
    "# Add a text label for the base performance\n",
    "plt.text(0.5, base_performance + 0.0001, f\"Avg Performance of Non-Clipping Model: {base_performance:.4f}\", fontsize=12)\n",
    "\n",
    "# Add grid\n",
    "plt.grid()\n",
    "\n",
    "# Add title\n",
    "plt.title(f\"Quantile vs Best Loss for Regularized and Non-Regularized Models (lr={lr}, epochs={epochs})\")\n",
    "plt.xlabel(\"Quantile\")\n",
    "plt.ylabel(\"Best Loss\")\n",
    "\n",
    "# Add legend\n",
    "plt.legend()"
   ]
  }
 ],
 "metadata": {
  "kernelspec": {
   "display_name": "autoclip",
   "language": "python",
   "name": "python3"
  },
  "language_info": {
   "codemirror_mode": {
    "name": "ipython",
    "version": 3
   },
   "file_extension": ".py",
   "mimetype": "text/x-python",
   "name": "python",
   "nbconvert_exporter": "python",
   "pygments_lexer": "ipython3",
   "version": "3.10.4"
  }
 },
 "nbformat": 4,
 "nbformat_minor": 2
}
